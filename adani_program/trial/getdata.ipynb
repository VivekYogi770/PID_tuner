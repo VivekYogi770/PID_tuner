{
 "cells": [
  {
   "cell_type": "code",
   "execution_count": 9,
   "metadata": {},
   "outputs": [],
   "source": [
    "import requests\n",
    "import pandas as pd \n"
   ]
  },
  {
   "cell_type": "code",
   "execution_count": 25,
   "metadata": {},
   "outputs": [],
   "source": [
    "def getdata(tableName,tags, start_time, end_time):\n",
    "    url = 'http://10.79.58.13/kawai/api/v1/readdata'\n",
    "    try:\n",
    "        # API request\n",
    "        response = requests.post(url,\n",
    "            json={\n",
    "                \"tableName\": tableName,\n",
    "                \"sensorids\": tags,\n",
    "                \"starttime\": start_time,\n",
    "                \"endtime\"  : end_time\n",
    "            },\n",
    "            timeout=10  # Timeout to prevent hanging\n",
    "        )\n",
    "        \n",
    "        # Check HTTP status\n",
    "        if response.status_code != 200:\n",
    "            print(f\"Error: Received status code {response.status_code} from the server.\")\n",
    "            return pd.DataFrame()\n",
    "\n",
    "        # Parse JSON response\n",
    "        response_data = response.json()\n",
    "        \n",
    "        # Check if data exists\n",
    "        if not response_data or \"data\" not in response_data or not response_data[\"data\"]:\n",
    "            print(\"Warning: No data received for the specified inputs.\")\n",
    "            return pd.DataFrame()\n",
    "\n",
    "        # Convert to DataFrame\n",
    "        df = pd.DataFrame(response_data[\"data\"])\n",
    "        if df.empty:\n",
    "            print(\"Warning: Data is empty after conversion to DataFrame.\")\n",
    "            return pd.DataFrame()\n",
    "\n",
    "        # Ensure 'time' column is datetime and pivot the DataFrame\n",
    "        df[\"time\"] = pd.to_datetime(df[\"time\"], errors='coerce')\n",
    "        pivot_df = df.pivot(index='time', columns='sensorid', values='measurement').reset_index()\n",
    "\n",
    "        # Clean column names\n",
    "        pivot_df.columns.name = None\n",
    "        pivot_df = pivot_df.rename_axis(None, axis=1)\n",
    "\n",
    "        return pivot_df\n",
    "\n",
    "    except requests.exceptions.RequestException as e:\n",
    "        print(f\"Error: An exception occurred while making the API request - {e}\")\n",
    "        return pd.DataFrame()\n",
    "    except ValueError as e:\n",
    "        print(f\"Error: Failed to process the JSON response - {e}\")\n",
    "        return pd.DataFrame()\n",
    "    except Exception as e:\n",
    "        print(f\"Error: An unexpected error occurred - {e}\")\n",
    "        return pd.DataFrame()\n",
    "        \n",
    "        \n",
    "        \n",
    "df = getdata(\"sensordataKawai\",[\"KAWAI_U2_2ND_STG_LHS_BP_P_PID_OP\"],'2025-01-01 00:00:00','2025-01-01 23:45:00')"
   ]
  },
  {
   "cell_type": "code",
   "execution_count": 26,
   "metadata": {},
   "outputs": [
    {
     "data": {
      "text/html": [
       "<div>\n",
       "<style scoped>\n",
       "    .dataframe tbody tr th:only-of-type {\n",
       "        vertical-align: middle;\n",
       "    }\n",
       "\n",
       "    .dataframe tbody tr th {\n",
       "        vertical-align: top;\n",
       "    }\n",
       "\n",
       "    .dataframe thead th {\n",
       "        text-align: right;\n",
       "    }\n",
       "</style>\n",
       "<table border=\"1\" class=\"dataframe\">\n",
       "  <thead>\n",
       "    <tr style=\"text-align: right;\">\n",
       "      <th></th>\n",
       "      <th>time</th>\n",
       "      <th>KAWAI_U2_2ND_STG_LHS_BP_P_PID_OP</th>\n",
       "    </tr>\n",
       "  </thead>\n",
       "  <tbody>\n",
       "    <tr>\n",
       "      <th>0</th>\n",
       "      <td>2025-01-01 00:00:00</td>\n",
       "      <td>502.749</td>\n",
       "    </tr>\n",
       "    <tr>\n",
       "      <th>1</th>\n",
       "      <td>2025-01-01 00:00:15</td>\n",
       "      <td>503.282</td>\n",
       "    </tr>\n",
       "    <tr>\n",
       "      <th>2</th>\n",
       "      <td>2025-01-01 00:00:30</td>\n",
       "      <td>503.749</td>\n",
       "    </tr>\n",
       "    <tr>\n",
       "      <th>3</th>\n",
       "      <td>2025-01-01 00:00:45</td>\n",
       "      <td>503.749</td>\n",
       "    </tr>\n",
       "    <tr>\n",
       "      <th>4</th>\n",
       "      <td>2025-01-01 00:01:00</td>\n",
       "      <td>503.749</td>\n",
       "    </tr>\n",
       "    <tr>\n",
       "      <th>...</th>\n",
       "      <td>...</td>\n",
       "      <td>...</td>\n",
       "    </tr>\n",
       "    <tr>\n",
       "      <th>5696</th>\n",
       "      <td>2025-01-01 23:44:00</td>\n",
       "      <td>508.379</td>\n",
       "    </tr>\n",
       "    <tr>\n",
       "      <th>5697</th>\n",
       "      <td>2025-01-01 23:44:15</td>\n",
       "      <td>508.379</td>\n",
       "    </tr>\n",
       "    <tr>\n",
       "      <th>5698</th>\n",
       "      <td>2025-01-01 23:44:30</td>\n",
       "      <td>508.379</td>\n",
       "    </tr>\n",
       "    <tr>\n",
       "      <th>5699</th>\n",
       "      <td>2025-01-01 23:44:45</td>\n",
       "      <td>508.379</td>\n",
       "    </tr>\n",
       "    <tr>\n",
       "      <th>5700</th>\n",
       "      <td>2025-01-01 23:45:00</td>\n",
       "      <td>509.274</td>\n",
       "    </tr>\n",
       "  </tbody>\n",
       "</table>\n",
       "<p>5701 rows × 2 columns</p>\n",
       "</div>"
      ],
      "text/plain": [
       "                    time  KAWAI_U2_2ND_STG_LHS_BP_P_PID_OP\n",
       "0    2025-01-01 00:00:00                           502.749\n",
       "1    2025-01-01 00:00:15                           503.282\n",
       "2    2025-01-01 00:00:30                           503.749\n",
       "3    2025-01-01 00:00:45                           503.749\n",
       "4    2025-01-01 00:01:00                           503.749\n",
       "...                  ...                               ...\n",
       "5696 2025-01-01 23:44:00                           508.379\n",
       "5697 2025-01-01 23:44:15                           508.379\n",
       "5698 2025-01-01 23:44:30                           508.379\n",
       "5699 2025-01-01 23:44:45                           508.379\n",
       "5700 2025-01-01 23:45:00                           509.274\n",
       "\n",
       "[5701 rows x 2 columns]"
      ]
     },
     "execution_count": 26,
     "metadata": {},
     "output_type": "execute_result"
    }
   ],
   "source": [
    "df"
   ]
  },
  {
   "cell_type": "code",
   "execution_count": 4,
   "metadata": {},
   "outputs": [],
   "source": [
    "data={\"setpointPrimary\": \"KAWAI_U2_1ST_STG_LHS_MN_P_PID_SP\",\n",
    "\"measureValuePrimary\": \"KAWAI_U2_1ST_STG_LHS_MN_P_PID_MEAS\",\n",
    "\"outputPrimary\"  : \"KAWAI_U2_1ST_STG_LHS_MN_P_PID_OP\",\n",
    "\"setpointSecondary\": \"KAWAI_U2_1ST_STG_LHS_MN_S_PID_SP\",\n",
    "\"measureValueSecondary\": \"KAWAI_U2_1ST_STG_LHS_MN_S_PID_MEAS\",\n",
    "\"controlvalveSecondary\"  : \"KAWAI_U2_1ST_STG_LHS_MN_S_PID_OP\"}"
   ]
  },
  {
   "cell_type": "code",
   "execution_count": null,
   "metadata": {},
   "outputs": [
    {
     "data": {
      "text/plain": [
       "{'setpointPrimary': 'KAWAI_U2_1ST_STG_LHS_MN_P_PID_SP',\n",
       " 'measureValuePrimary': 'KAWAI_U2_1ST_STG_LHS_MN_P_PID_MEAS',\n",
       " 'outputPrimary': 'KAWAI_U2_1ST_STG_LHS_MN_P_PID_OP',\n",
       " 'setpointSecondary': 'KAWAI_U2_1ST_STG_LHS_MN_S_PID_SP',\n",
       " 'measureValueSecondary': 'KAWAI_U2_1ST_STG_LHS_MN_S_PID_MEAS',\n",
       " 'controlvalveSecondary': 'KAWAI_U2_1ST_STG_LHS_MN_S_PID_OP'}"
      ]
     },
     "execution_count": 5,
     "metadata": {},
     "output_type": "execute_result"
    }
   ],
   "source": []
  },
  {
   "cell_type": "code",
   "execution_count": null,
   "metadata": {},
   "outputs": [],
   "source": [
    "sensorTags=[v for k,v in data.items()]\n"
   ]
  },
  {
   "cell_type": "code",
   "execution_count": 27,
   "metadata": {},
   "outputs": [],
   "source": [
    "df = getdata(\"sensordataKawai\",sensorTags,'2025-01-01 00:00:00','2025-01-01 23:45:00')"
   ]
  },
  {
   "cell_type": "code",
   "execution_count": 28,
   "metadata": {},
   "outputs": [],
   "source": [
    "for col in df.columns:\n",
    "    if col != \"time\":\n",
    "       fdf= {v:k for k,v in data.items() if k!= v}\n",
    "       df= df.rename(columns=fdf)"
   ]
  },
  {
   "cell_type": "code",
   "execution_count": 23,
   "metadata": {},
   "outputs": [
    {
     "data": {
      "text/plain": [
       "{'KAWAI_U2_1ST_STG_LHS_MN_P_PID_SP': 'setpointPrimary',\n",
       " 'KAWAI_U2_1ST_STG_LHS_MN_P_PID_MEAS': 'measureValuePrimary',\n",
       " 'KAWAI_U2_1ST_STG_LHS_MN_P_PID_OP': 'outputPrimary',\n",
       " 'KAWAI_U2_1ST_STG_LHS_MN_S_PID_SP': 'setpointSecondary',\n",
       " 'KAWAI_U2_1ST_STG_LHS_MN_S_PID_MEAS': 'measureValueSecondary',\n",
       " 'KAWAI_U2_1ST_STG_LHS_MN_S_PID_OP': 'controlvalveSecondary'}"
      ]
     },
     "execution_count": 23,
     "metadata": {},
     "output_type": "execute_result"
    }
   ],
   "source": [
    "fdf"
   ]
  },
  {
   "cell_type": "code",
   "execution_count": 29,
   "metadata": {},
   "outputs": [
    {
     "data": {
      "text/html": [
       "<div>\n",
       "<style scoped>\n",
       "    .dataframe tbody tr th:only-of-type {\n",
       "        vertical-align: middle;\n",
       "    }\n",
       "\n",
       "    .dataframe tbody tr th {\n",
       "        vertical-align: top;\n",
       "    }\n",
       "\n",
       "    .dataframe thead th {\n",
       "        text-align: right;\n",
       "    }\n",
       "</style>\n",
       "<table border=\"1\" class=\"dataframe\">\n",
       "  <thead>\n",
       "    <tr style=\"text-align: right;\">\n",
       "      <th></th>\n",
       "      <th>time</th>\n",
       "      <th>measureValuePrimary</th>\n",
       "      <th>outputPrimary</th>\n",
       "      <th>setpointPrimary</th>\n",
       "      <th>measureValueSecondary</th>\n",
       "      <th>controlvalveSecondary</th>\n",
       "      <th>setpointSecondary</th>\n",
       "    </tr>\n",
       "  </thead>\n",
       "  <tbody>\n",
       "    <tr>\n",
       "      <th>0</th>\n",
       "      <td>2025-01-01 00:00:00</td>\n",
       "      <td>489.831</td>\n",
       "      <td>500.0</td>\n",
       "      <td>508.0</td>\n",
       "      <td>421.74</td>\n",
       "      <td>0.11348</td>\n",
       "      <td>500.0</td>\n",
       "    </tr>\n",
       "    <tr>\n",
       "      <th>1</th>\n",
       "      <td>2025-01-01 00:00:15</td>\n",
       "      <td>489.831</td>\n",
       "      <td>500.0</td>\n",
       "      <td>508.0</td>\n",
       "      <td>421.74</td>\n",
       "      <td>0.11348</td>\n",
       "      <td>500.0</td>\n",
       "    </tr>\n",
       "    <tr>\n",
       "      <th>2</th>\n",
       "      <td>2025-01-01 00:00:30</td>\n",
       "      <td>489.831</td>\n",
       "      <td>500.0</td>\n",
       "      <td>508.0</td>\n",
       "      <td>421.74</td>\n",
       "      <td>0.11348</td>\n",
       "      <td>500.0</td>\n",
       "    </tr>\n",
       "    <tr>\n",
       "      <th>3</th>\n",
       "      <td>2025-01-01 00:00:45</td>\n",
       "      <td>489.831</td>\n",
       "      <td>500.0</td>\n",
       "      <td>508.0</td>\n",
       "      <td>421.74</td>\n",
       "      <td>0.11348</td>\n",
       "      <td>500.0</td>\n",
       "    </tr>\n",
       "    <tr>\n",
       "      <th>4</th>\n",
       "      <td>2025-01-01 00:01:00</td>\n",
       "      <td>489.831</td>\n",
       "      <td>500.0</td>\n",
       "      <td>508.0</td>\n",
       "      <td>421.74</td>\n",
       "      <td>0.11348</td>\n",
       "      <td>500.0</td>\n",
       "    </tr>\n",
       "  </tbody>\n",
       "</table>\n",
       "</div>"
      ],
      "text/plain": [
       "                 time  measureValuePrimary  outputPrimary  setpointPrimary  \\\n",
       "0 2025-01-01 00:00:00              489.831          500.0            508.0   \n",
       "1 2025-01-01 00:00:15              489.831          500.0            508.0   \n",
       "2 2025-01-01 00:00:30              489.831          500.0            508.0   \n",
       "3 2025-01-01 00:00:45              489.831          500.0            508.0   \n",
       "4 2025-01-01 00:01:00              489.831          500.0            508.0   \n",
       "\n",
       "   measureValueSecondary  controlvalveSecondary  setpointSecondary  \n",
       "0                 421.74                0.11348              500.0  \n",
       "1                 421.74                0.11348              500.0  \n",
       "2                 421.74                0.11348              500.0  \n",
       "3                 421.74                0.11348              500.0  \n",
       "4                 421.74                0.11348              500.0  "
      ]
     },
     "execution_count": 29,
     "metadata": {},
     "output_type": "execute_result"
    }
   ],
   "source": [
    "df.head(5)"
   ]
  },
  {
   "cell_type": "code",
   "execution_count": null,
   "metadata": {},
   "outputs": [],
   "source": []
  }
 ],
 "metadata": {
  "kernelspec": {
   "display_name": "base",
   "language": "python",
   "name": "python3"
  },
  "language_info": {
   "codemirror_mode": {
    "name": "ipython",
    "version": 3
   },
   "file_extension": ".py",
   "mimetype": "text/x-python",
   "name": "python",
   "nbconvert_exporter": "python",
   "pygments_lexer": "ipython3",
   "version": "3.12.4"
  },
  "orig_nbformat": 4
 },
 "nbformat": 4,
 "nbformat_minor": 2
}
